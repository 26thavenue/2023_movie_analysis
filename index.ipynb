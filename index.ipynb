{
 "cells": [
  {
   "cell_type": "code",
   "execution_count": 1,
   "metadata": {},
   "outputs": [],
   "source": [
    "import pandas as pd\n",
    "import matplotlib.pyplot as plt\n",
    "import numpy as np\n",
    "import seaborn as sns\n"
   ]
  },
  {
   "cell_type": "code",
   "execution_count": 2,
   "metadata": {},
   "outputs": [
    {
     "data": {
      "text/html": [
       "<div>\n",
       "<style scoped>\n",
       "    .dataframe tbody tr th:only-of-type {\n",
       "        vertical-align: middle;\n",
       "    }\n",
       "\n",
       "    .dataframe tbody tr th {\n",
       "        vertical-align: top;\n",
       "    }\n",
       "\n",
       "    .dataframe thead th {\n",
       "        text-align: right;\n",
       "    }\n",
       "</style>\n",
       "<table border=\"1\" class=\"dataframe\">\n",
       "  <thead>\n",
       "    <tr style=\"text-align: right;\">\n",
       "      <th></th>\n",
       "      <th>Unnamed: 0</th>\n",
       "      <th>name</th>\n",
       "      <th>rating</th>\n",
       "      <th>votes</th>\n",
       "      <th>runtime</th>\n",
       "      <th>genre</th>\n",
       "      <th>description</th>\n",
       "    </tr>\n",
       "  </thead>\n",
       "  <tbody>\n",
       "    <tr>\n",
       "      <th>0</th>\n",
       "      <td>0</td>\n",
       "      <td>Oppenheimer</td>\n",
       "      <td>8.4</td>\n",
       "      <td>565,499</td>\n",
       "      <td>180 min</td>\n",
       "      <td>['Biography, Drama, History']</td>\n",
       "      <td>['The story of American scientist J. Robert Op...</td>\n",
       "    </tr>\n",
       "    <tr>\n",
       "      <th>1</th>\n",
       "      <td>1</td>\n",
       "      <td>Sound of Freedom</td>\n",
       "      <td>7.7</td>\n",
       "      <td>91,802</td>\n",
       "      <td>131 min</td>\n",
       "      <td>['Biography, Crime, Drama']</td>\n",
       "      <td>['The incredible true story of a former govern...</td>\n",
       "    </tr>\n",
       "    <tr>\n",
       "      <th>2</th>\n",
       "      <td>2</td>\n",
       "      <td>Saltburn</td>\n",
       "      <td>7.3</td>\n",
       "      <td>38,572</td>\n",
       "      <td>131 min</td>\n",
       "      <td>['Comedy, Drama, Thriller']</td>\n",
       "      <td>[\"A student at Oxford University finds himself...</td>\n",
       "    </tr>\n",
       "    <tr>\n",
       "      <th>3</th>\n",
       "      <td>3</td>\n",
       "      <td>Tetris</td>\n",
       "      <td>7.4</td>\n",
       "      <td>75,645</td>\n",
       "      <td>118 min</td>\n",
       "      <td>['Biography, Drama, History']</td>\n",
       "      <td>[\"The story of how one of the world's most pop...</td>\n",
       "    </tr>\n",
       "    <tr>\n",
       "      <th>4</th>\n",
       "      <td>4</td>\n",
       "      <td>Jesus Revolution</td>\n",
       "      <td>7.1</td>\n",
       "      <td>12,613</td>\n",
       "      <td>120 min</td>\n",
       "      <td>['Drama']</td>\n",
       "      <td>['The true story of a national spiritual awake...</td>\n",
       "    </tr>\n",
       "  </tbody>\n",
       "</table>\n",
       "</div>"
      ],
      "text/plain": [
       "   Unnamed: 0              name rating    votes  runtime  \\\n",
       "0           0       Oppenheimer    8.4  565,499  180 min   \n",
       "1           1  Sound of Freedom    7.7   91,802  131 min   \n",
       "2           2          Saltburn    7.3   38,572  131 min   \n",
       "3           3            Tetris    7.4   75,645  118 min   \n",
       "4           4  Jesus Revolution    7.1   12,613  120 min   \n",
       "\n",
       "                           genre  \\\n",
       "0  ['Biography, Drama, History']   \n",
       "1    ['Biography, Crime, Drama']   \n",
       "2    ['Comedy, Drama, Thriller']   \n",
       "3  ['Biography, Drama, History']   \n",
       "4                      ['Drama']   \n",
       "\n",
       "                                         description  \n",
       "0  ['The story of American scientist J. Robert Op...  \n",
       "1  ['The incredible true story of a former govern...  \n",
       "2  [\"A student at Oxford University finds himself...  \n",
       "3  [\"The story of how one of the world's most pop...  \n",
       "4  ['The true story of a national spiritual awake...  "
      ]
     },
     "execution_count": 2,
     "metadata": {},
     "output_type": "execute_result"
    }
   ],
   "source": [
    "data = pd.read_csv(r'moviesdataset_2023.csv')\n",
    "data.head()\n"
   ]
  },
  {
   "cell_type": "code",
   "execution_count": 3,
   "metadata": {},
   "outputs": [
    {
     "name": "stdout",
     "output_type": "stream",
     "text": [
      "<class 'pandas.core.frame.DataFrame'>\n",
      "RangeIndex: 100 entries, 0 to 99\n",
      "Data columns (total 7 columns):\n",
      " #   Column       Non-Null Count  Dtype \n",
      "---  ------       --------------  ----- \n",
      " 0   Unnamed: 0   100 non-null    int64 \n",
      " 1   name         100 non-null    object\n",
      " 2   rating       98 non-null     object\n",
      " 3   votes        99 non-null     object\n",
      " 4   runtime      99 non-null     object\n",
      " 5   genre        100 non-null    object\n",
      " 6   description  100 non-null    object\n",
      "dtypes: int64(1), object(6)\n",
      "memory usage: 5.6+ KB\n"
     ]
    }
   ],
   "source": [
    "data.info()"
   ]
  },
  {
   "cell_type": "code",
   "execution_count": 8,
   "metadata": {},
   "outputs": [
    {
     "data": {
      "text/plain": [
       "Unnamed: 0     0\n",
       "name           0\n",
       "rating         2\n",
       "votes          1\n",
       "runtime        1\n",
       "genre          0\n",
       "description    0\n",
       "dtype: int64"
      ]
     },
     "execution_count": 8,
     "metadata": {},
     "output_type": "execute_result"
    }
   ],
   "source": [
    "data.isna().sum()\n"
   ]
  },
  {
   "cell_type": "code",
   "execution_count": 10,
   "metadata": {},
   "outputs": [],
   "source": [
    "data.drop('Unnamed: 0', axis=1, inplace=True)\n",
    "data.drop('description', axis=1, inplace=True)"
   ]
  },
  {
   "cell_type": "code",
   "execution_count": 11,
   "metadata": {},
   "outputs": [
    {
     "data": {
      "text/plain": [
       "Index(['name', 'rating', 'votes', 'runtime', 'genre'], dtype='object')"
      ]
     },
     "execution_count": 11,
     "metadata": {},
     "output_type": "execute_result"
    }
   ],
   "source": [
    "data.columns"
   ]
  },
  {
   "cell_type": "code",
   "execution_count": 12,
   "metadata": {},
   "outputs": [],
   "source": [
    "df = data.copy()"
   ]
  },
  {
   "cell_type": "code",
   "execution_count": 13,
   "metadata": {},
   "outputs": [
    {
     "data": {
      "text/plain": [
       "name       0\n",
       "rating     0\n",
       "votes      0\n",
       "runtime    0\n",
       "genre      0\n",
       "dtype: int64"
      ]
     },
     "execution_count": 13,
     "metadata": {},
     "output_type": "execute_result"
    }
   ],
   "source": [
    "df.dropna(inplace=True)\n",
    "df.isna().sum()"
   ]
  },
  {
   "cell_type": "code",
   "execution_count": 14,
   "metadata": {},
   "outputs": [
    {
     "data": {
      "text/plain": [
       "(97, 5)"
      ]
     },
     "execution_count": 14,
     "metadata": {},
     "output_type": "execute_result"
    }
   ],
   "source": [
    "df.shape"
   ]
  },
  {
   "cell_type": "code",
   "execution_count": 15,
   "metadata": {},
   "outputs": [
    {
     "data": {
      "text/html": [
       "<div>\n",
       "<style scoped>\n",
       "    .dataframe tbody tr th:only-of-type {\n",
       "        vertical-align: middle;\n",
       "    }\n",
       "\n",
       "    .dataframe tbody tr th {\n",
       "        vertical-align: top;\n",
       "    }\n",
       "\n",
       "    .dataframe thead th {\n",
       "        text-align: right;\n",
       "    }\n",
       "</style>\n",
       "<table border=\"1\" class=\"dataframe\">\n",
       "  <thead>\n",
       "    <tr style=\"text-align: right;\">\n",
       "      <th></th>\n",
       "      <th>name</th>\n",
       "      <th>rating</th>\n",
       "      <th>votes</th>\n",
       "      <th>runtime</th>\n",
       "      <th>genre</th>\n",
       "    </tr>\n",
       "  </thead>\n",
       "  <tbody>\n",
       "    <tr>\n",
       "      <th>0</th>\n",
       "      <td>Oppenheimer</td>\n",
       "      <td>8.4</td>\n",
       "      <td>565,499</td>\n",
       "      <td>180 min</td>\n",
       "      <td>['Biography, Drama, History']</td>\n",
       "    </tr>\n",
       "    <tr>\n",
       "      <th>1</th>\n",
       "      <td>Sound of Freedom</td>\n",
       "      <td>7.7</td>\n",
       "      <td>91,802</td>\n",
       "      <td>131 min</td>\n",
       "      <td>['Biography, Crime, Drama']</td>\n",
       "    </tr>\n",
       "    <tr>\n",
       "      <th>2</th>\n",
       "      <td>Saltburn</td>\n",
       "      <td>7.3</td>\n",
       "      <td>38,572</td>\n",
       "      <td>131 min</td>\n",
       "      <td>['Comedy, Drama, Thriller']</td>\n",
       "    </tr>\n",
       "    <tr>\n",
       "      <th>3</th>\n",
       "      <td>Tetris</td>\n",
       "      <td>7.4</td>\n",
       "      <td>75,645</td>\n",
       "      <td>118 min</td>\n",
       "      <td>['Biography, Drama, History']</td>\n",
       "    </tr>\n",
       "    <tr>\n",
       "      <th>4</th>\n",
       "      <td>Jesus Revolution</td>\n",
       "      <td>7.1</td>\n",
       "      <td>12,613</td>\n",
       "      <td>120 min</td>\n",
       "      <td>['Drama']</td>\n",
       "    </tr>\n",
       "    <tr>\n",
       "      <th>...</th>\n",
       "      <td>...</td>\n",
       "      <td>...</td>\n",
       "      <td>...</td>\n",
       "      <td>...</td>\n",
       "      <td>...</td>\n",
       "    </tr>\n",
       "    <tr>\n",
       "      <th>95</th>\n",
       "      <td>The Pope's Exorcist</td>\n",
       "      <td>6.1</td>\n",
       "      <td>76,775</td>\n",
       "      <td>103 min</td>\n",
       "      <td>['Horror, Thriller']</td>\n",
       "    </tr>\n",
       "    <tr>\n",
       "      <th>96</th>\n",
       "      <td>Creed III</td>\n",
       "      <td>6.7</td>\n",
       "      <td>87,908</td>\n",
       "      <td>116 min</td>\n",
       "      <td>['Drama, Sport']</td>\n",
       "    </tr>\n",
       "    <tr>\n",
       "      <th>97</th>\n",
       "      <td>Kidnapped</td>\n",
       "      <td>7.1</td>\n",
       "      <td>1,855</td>\n",
       "      <td>134 min</td>\n",
       "      <td>['Drama, History']</td>\n",
       "    </tr>\n",
       "    <tr>\n",
       "      <th>98</th>\n",
       "      <td>Fast X</td>\n",
       "      <td>5.8</td>\n",
       "      <td>106,548</td>\n",
       "      <td>141 min</td>\n",
       "      <td>['Action, Adventure, Crime']</td>\n",
       "    </tr>\n",
       "    <tr>\n",
       "      <th>99</th>\n",
       "      <td>The Mothership</td>\n",
       "      <td>none</td>\n",
       "      <td>None</td>\n",
       "      <td>None</td>\n",
       "      <td>['Adventure, Drama, Family']</td>\n",
       "    </tr>\n",
       "  </tbody>\n",
       "</table>\n",
       "<p>97 rows × 5 columns</p>\n",
       "</div>"
      ],
      "text/plain": [
       "                   name rating    votes  runtime  \\\n",
       "0           Oppenheimer    8.4  565,499  180 min   \n",
       "1      Sound of Freedom    7.7   91,802  131 min   \n",
       "2              Saltburn    7.3   38,572  131 min   \n",
       "3                Tetris    7.4   75,645  118 min   \n",
       "4      Jesus Revolution    7.1   12,613  120 min   \n",
       "..                  ...    ...      ...      ...   \n",
       "95  The Pope's Exorcist    6.1   76,775  103 min   \n",
       "96            Creed III    6.7   87,908  116 min   \n",
       "97            Kidnapped    7.1    1,855  134 min   \n",
       "98               Fast X    5.8  106,548  141 min   \n",
       "99       The Mothership   none     None     None   \n",
       "\n",
       "                            genre  \n",
       "0   ['Biography, Drama, History']  \n",
       "1     ['Biography, Crime, Drama']  \n",
       "2     ['Comedy, Drama, Thriller']  \n",
       "3   ['Biography, Drama, History']  \n",
       "4                       ['Drama']  \n",
       "..                            ...  \n",
       "95           ['Horror, Thriller']  \n",
       "96               ['Drama, Sport']  \n",
       "97             ['Drama, History']  \n",
       "98   ['Action, Adventure, Crime']  \n",
       "99   ['Adventure, Drama, Family']  \n",
       "\n",
       "[97 rows x 5 columns]"
      ]
     },
     "execution_count": 15,
     "metadata": {},
     "output_type": "execute_result"
    }
   ],
   "source": [
    "df"
   ]
  },
  {
   "cell_type": "code",
   "execution_count": 16,
   "metadata": {},
   "outputs": [
    {
     "data": {
      "text/plain": [
       "(96, 5)"
      ]
     },
     "execution_count": 16,
     "metadata": {},
     "output_type": "execute_result"
    }
   ],
   "source": [
    "df_filtered = df[~df['rating'].str.lower().isin(['none', 'none'])]\n",
    "df_filtered = df[~df['votes'].str.lower().isin(['none', 'none'])]\n",
    "df_filtered = df[~df['runtime'].str.lower().isin(['none', 'none'])]\n",
    "\n",
    "df_filtered.shape"
   ]
  },
  {
   "cell_type": "code",
   "execution_count": 17,
   "metadata": {},
   "outputs": [
    {
     "data": {
      "text/html": [
       "<div>\n",
       "<style scoped>\n",
       "    .dataframe tbody tr th:only-of-type {\n",
       "        vertical-align: middle;\n",
       "    }\n",
       "\n",
       "    .dataframe tbody tr th {\n",
       "        vertical-align: top;\n",
       "    }\n",
       "\n",
       "    .dataframe thead th {\n",
       "        text-align: right;\n",
       "    }\n",
       "</style>\n",
       "<table border=\"1\" class=\"dataframe\">\n",
       "  <thead>\n",
       "    <tr style=\"text-align: right;\">\n",
       "      <th></th>\n",
       "      <th>name</th>\n",
       "      <th>rating</th>\n",
       "      <th>votes</th>\n",
       "      <th>runtime</th>\n",
       "      <th>genre</th>\n",
       "    </tr>\n",
       "  </thead>\n",
       "  <tbody>\n",
       "    <tr>\n",
       "      <th>0</th>\n",
       "      <td>Oppenheimer</td>\n",
       "      <td>8.4</td>\n",
       "      <td>565,499</td>\n",
       "      <td>180 min</td>\n",
       "      <td>['Biography, Drama, History']</td>\n",
       "    </tr>\n",
       "    <tr>\n",
       "      <th>1</th>\n",
       "      <td>Sound of Freedom</td>\n",
       "      <td>7.7</td>\n",
       "      <td>91,802</td>\n",
       "      <td>131 min</td>\n",
       "      <td>['Biography, Crime, Drama']</td>\n",
       "    </tr>\n",
       "    <tr>\n",
       "      <th>2</th>\n",
       "      <td>Saltburn</td>\n",
       "      <td>7.3</td>\n",
       "      <td>38,572</td>\n",
       "      <td>131 min</td>\n",
       "      <td>['Comedy, Drama, Thriller']</td>\n",
       "    </tr>\n",
       "    <tr>\n",
       "      <th>3</th>\n",
       "      <td>Tetris</td>\n",
       "      <td>7.4</td>\n",
       "      <td>75,645</td>\n",
       "      <td>118 min</td>\n",
       "      <td>['Biography, Drama, History']</td>\n",
       "    </tr>\n",
       "    <tr>\n",
       "      <th>4</th>\n",
       "      <td>Jesus Revolution</td>\n",
       "      <td>7.1</td>\n",
       "      <td>12,613</td>\n",
       "      <td>120 min</td>\n",
       "      <td>['Drama']</td>\n",
       "    </tr>\n",
       "    <tr>\n",
       "      <th>...</th>\n",
       "      <td>...</td>\n",
       "      <td>...</td>\n",
       "      <td>...</td>\n",
       "      <td>...</td>\n",
       "      <td>...</td>\n",
       "    </tr>\n",
       "    <tr>\n",
       "      <th>94</th>\n",
       "      <td>Teenage Mutant Ninja Turtles: Mutant Mayhem</td>\n",
       "      <td>7.2</td>\n",
       "      <td>53,230</td>\n",
       "      <td>99 min</td>\n",
       "      <td>['Animation, Action, Adventure']</td>\n",
       "    </tr>\n",
       "    <tr>\n",
       "      <th>95</th>\n",
       "      <td>The Pope's Exorcist</td>\n",
       "      <td>6.1</td>\n",
       "      <td>76,775</td>\n",
       "      <td>103 min</td>\n",
       "      <td>['Horror, Thriller']</td>\n",
       "    </tr>\n",
       "    <tr>\n",
       "      <th>96</th>\n",
       "      <td>Creed III</td>\n",
       "      <td>6.7</td>\n",
       "      <td>87,908</td>\n",
       "      <td>116 min</td>\n",
       "      <td>['Drama, Sport']</td>\n",
       "    </tr>\n",
       "    <tr>\n",
       "      <th>97</th>\n",
       "      <td>Kidnapped</td>\n",
       "      <td>7.1</td>\n",
       "      <td>1,855</td>\n",
       "      <td>134 min</td>\n",
       "      <td>['Drama, History']</td>\n",
       "    </tr>\n",
       "    <tr>\n",
       "      <th>98</th>\n",
       "      <td>Fast X</td>\n",
       "      <td>5.8</td>\n",
       "      <td>106,548</td>\n",
       "      <td>141 min</td>\n",
       "      <td>['Action, Adventure, Crime']</td>\n",
       "    </tr>\n",
       "  </tbody>\n",
       "</table>\n",
       "<p>96 rows × 5 columns</p>\n",
       "</div>"
      ],
      "text/plain": [
       "                                           name rating    votes  runtime  \\\n",
       "0                                   Oppenheimer    8.4  565,499  180 min   \n",
       "1                              Sound of Freedom    7.7   91,802  131 min   \n",
       "2                                      Saltburn    7.3   38,572  131 min   \n",
       "3                                        Tetris    7.4   75,645  118 min   \n",
       "4                              Jesus Revolution    7.1   12,613  120 min   \n",
       "..                                          ...    ...      ...      ...   \n",
       "94  Teenage Mutant Ninja Turtles: Mutant Mayhem    7.2   53,230   99 min   \n",
       "95                          The Pope's Exorcist    6.1   76,775  103 min   \n",
       "96                                    Creed III    6.7   87,908  116 min   \n",
       "97                                    Kidnapped    7.1    1,855  134 min   \n",
       "98                                       Fast X    5.8  106,548  141 min   \n",
       "\n",
       "                               genre  \n",
       "0      ['Biography, Drama, History']  \n",
       "1        ['Biography, Crime, Drama']  \n",
       "2        ['Comedy, Drama, Thriller']  \n",
       "3      ['Biography, Drama, History']  \n",
       "4                          ['Drama']  \n",
       "..                               ...  \n",
       "94  ['Animation, Action, Adventure']  \n",
       "95              ['Horror, Thriller']  \n",
       "96                  ['Drama, Sport']  \n",
       "97                ['Drama, History']  \n",
       "98      ['Action, Adventure, Crime']  \n",
       "\n",
       "[96 rows x 5 columns]"
      ]
     },
     "execution_count": 17,
     "metadata": {},
     "output_type": "execute_result"
    }
   ],
   "source": [
    "df_filtered"
   ]
  }
 ],
 "metadata": {
  "kernelspec": {
   "display_name": "base",
   "language": "python",
   "name": "python3"
  },
  "language_info": {
   "codemirror_mode": {
    "name": "ipython",
    "version": 3
   },
   "file_extension": ".py",
   "mimetype": "text/x-python",
   "name": "python",
   "nbconvert_exporter": "python",
   "pygments_lexer": "ipython3",
   "version": "3.10.9"
  },
  "orig_nbformat": 4
 },
 "nbformat": 4,
 "nbformat_minor": 2
}
